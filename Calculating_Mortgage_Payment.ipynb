{
  "nbformat": 4,
  "nbformat_minor": 0,
  "metadata": {
    "colab": {
      "name": "Calculating_Mortgage_Payment.ipynb",
      "provenance": [],
      "authorship_tag": "ABX9TyMK6PZO5AdYKEWMedUzkY9w"
    },
    "kernelspec": {
      "name": "python3",
      "display_name": "Python 3"
    },
    "language_info": {
      "name": "python"
    }
  },
  "cells": [
    {
      "cell_type": "code",
      "metadata": {
        "colab": {
          "base_uri": "https://localhost:8080/"
        },
        "id": "pPxOX0RShYyz",
        "outputId": "76b2c369-6fea-460a-8f91-ad8fbe324045"
      },
      "source": [
        "# p * ((r(1+r)^n)/((1+r)^n-1)) What would the monthly payment be for a 30 year mortgage with a 400000 dollar principal and a 3 percent APR? \n",
        "(400000*(.0025*((1+.0025)**360))/(((1+.0025)**360)-1))"
      ],
      "execution_count": null,
      "outputs": [
        {
          "output_type": "execute_result",
          "data": {
            "text/plain": [
              "1686.4161349178237"
            ]
          },
          "metadata": {},
          "execution_count": 7
        }
      ]
    },
    {
      "cell_type": "code",
      "metadata": {
        "colab": {
          "base_uri": "https://localhost:8080/"
        },
        "id": "t0jsgBppopnm",
        "outputId": "f95a1a03-c68f-4b0b-e48c-9360351ca7f6"
      },
      "source": [
        "# How much is the monthly payment if the interest rate is 6%?\n",
        "(400000*(.005*((1+.005)**360))/(((1+.005)**360)-1))"
      ],
      "execution_count": null,
      "outputs": [
        {
          "output_type": "execute_result",
          "data": {
            "text/plain": [
              "2398.2021006110276"
            ]
          },
          "metadata": {},
          "execution_count": 8
        }
      ]
    },
    {
      "cell_type": "code",
      "metadata": {
        "colab": {
          "base_uri": "https://localhost:8080/"
        },
        "id": "yg1KKnNFsIsY",
        "outputId": "01bcc299-51fb-4a66-d5fe-aa7ae54b3910"
      },
      "source": [
        "# redo with code What would the monthly payment be for a 30 year mortgage with a 400000 dollar principle and a 3 percent APR?\n",
        "p = 400000\n",
        "r = (.03/12)\n",
        "n = 360\n",
        "numerator = (r * ( (1+r) ** (n)) )\n",
        "denominator = (((1 + r)**(n)) - 1)\n",
        "emi = p*(numerator/denominator)\n",
        "emi"
      ],
      "execution_count": null,
      "outputs": [
        {
          "output_type": "execute_result",
          "data": {
            "text/plain": [
              "1686.4161349178237"
            ]
          },
          "metadata": {},
          "execution_count": 15
        }
      ]
    },
    {
      "cell_type": "code",
      "metadata": {
        "colab": {
          "base_uri": "https://localhost:8080/"
        },
        "id": "ICMzTizxvwK4",
        "outputId": "788291d6-4bae-4207-c10f-c5dcf165806a"
      },
      "source": [
        "# How much is the monthly payment if the interest rate is 6%?\n",
        "p = 400000\n",
        "r = (.06/12)\n",
        "n = 360\n",
        "numerator = (r*((1+r)**(n)))\n",
        "denominator = (((1+r)**(n))-1)\n",
        "emi = p*(numerator/denominator)\n",
        "emi\n"
      ],
      "execution_count": null,
      "outputs": [
        {
          "output_type": "execute_result",
          "data": {
            "text/plain": [
              "2398.2021006110276"
            ]
          },
          "metadata": {},
          "execution_count": 16
        }
      ]
    }
  ]
}